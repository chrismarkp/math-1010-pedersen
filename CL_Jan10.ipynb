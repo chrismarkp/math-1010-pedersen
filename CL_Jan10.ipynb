{
 "cells": [
  {
   "cell_type": "markdown",
   "id": "accessible-burke",
   "metadata": {},
   "source": [
    "# January 10 Computer Lab Exercise\n",
    "\n",
    "Welcome to jupyter noteboks! In this exercise you'll get familiar with jupyter notebooks and the fun features they have. We'll also briefly go over some of the parts of python we'll be using during this class. It's important to note that I'm skipping over some of the main philisophical components of coding. If you're just seeing code for the first time, I don't want this to be overwhelming! I'm hoping that by only introducing what we'll be using during the class, it'll make it less intimidating. Just know that this little bit of code we'll be using represents such a tiny part of the universe of coding.\n",
    "\n",
    "# Important: \n",
    "Double click this \"cell\" and type your name below.\n",
    "\n",
    "Christopher Pedersen"
   ]
  },
  {
   "cell_type": "markdown",
   "id": "legal-princeton",
   "metadata": {},
   "source": [
    "## Why are we using Jupyter Noteboks?\n",
    "\n",
    "Jupyter notebooks are lovely. They let you test out code snippets without fully committing to an entire script, and documenting your code is a lot more straightforward. If you have a LaTeX compiler, you can compile them into beautiful PDFs. I use jupyter notebooks to organize my \"todo\" tasks for a day, I use them to do basic arithmetic, and I use them to visualize data. "
   ]
  },
  {
   "cell_type": "markdown",
   "id": "better-savage",
   "metadata": {},
   "source": [
    "## Executing code in Jupyter\n",
    "To add a \"block\" of code in a Jupyter notebook, click the + button. If you'd like the block to be just text, go to the dropdown menu that reads `Code` and select `Markdown`. If you have any questions on how to format a Markdown block, feel free to ask, or google! [Here's a cheat sheet](https://www.markdownguide.org/cheat-sheet/) which is a good place to start. \n",
    "\n",
    "Making pretty markdown files is not a learning goal for this class. All you'll need to know how to do is make a heading (which you do by typing `# ` in front of your heading title), and how to type general paragraphs in the markdown block (which is pretty intuitive).\n",
    "\n",
    "If you're ever unsure of how I've formatted something in markdown, double click on the text and \"edit mode\" will open. You'll be able to see how it's all typeset.\n",
    "\n",
    "Once you've written a block of code/text, to run it press `Shift + Enter`. The same command will turn a Markdown block into pretty text!"
   ]
  },
  {
   "cell_type": "code",
   "execution_count": 4,
   "id": "welsh-mambo",
   "metadata": {},
   "outputs": [
    {
     "name": "stdout",
     "output_type": "stream",
     "text": [
      "Hey, here is some code!\n"
     ]
    }
   ],
   "source": [
    "print('Hey, here is some code!')"
   ]
  },
  {
   "cell_type": "markdown",
   "id": "available-passenger",
   "metadata": {},
   "source": [
    "## Task: \n",
    "On all of the code blocks below (those that have `In [#]` on the left), click somewhere in the code block and then press `Shift + Enter`."
   ]
  },
  {
   "cell_type": "markdown",
   "id": "successful-blend",
   "metadata": {},
   "source": [
    "## Importing Libraries\n",
    "\n",
    "First we'll learn how to import libraries. Libraries are packages of code that other people have written and shared to help other users have cleaner and more efficient code. They include definitions for complicated pieces of code called _functions_ and defined _objects_ so that users can \"call\" on the functions instead of rewriting everything!"
   ]
  },
  {
   "cell_type": "markdown",
   "id": "tough-geology",
   "metadata": {},
   "source": [
    "Imagine we wanted to import a package called `affection` because we wanted to use the function `high_five`.  The first thing we would do is import the package by typing `import affection`.\n",
    "     \n",
    "Then (assuming we had an object defined named `Izabel`) if we wanted to use the `high_five()` function we would just type `affection.high_five(Izabel)`.\n",
    "\n",
    "If typing `affection` was too long we could give it a nickname by typing `import affection as aff`. Once we've nicknamed the package, to use the hug function we would just need to write `aff.high_five(Izabel)`.\n",
    "\n",
    "Say the `affection` package contains the functions `hug`, `shake_hands`, and `high_five`, but we know we will just use the `high_five` function for our program. In that case, we can just type `import affection.high_five` and then to use it we would just need to write `high_five(Izabel)`."
   ]
  },
  {
   "cell_type": "markdown",
   "id": "single-characteristic",
   "metadata": {},
   "source": [
    "## Installing packages \n",
    "\n",
    "Three packages we'll be using during this class are `numpy`, `networkx`, and `matplotlib`. They will help us store, analyze, and visualize networks. Before you go further, go back to your command line and type\n",
    "``` pip install numpy ```.\n",
    "Once that's done installing, type\n",
    "``` pip install matplotlib ```,\n",
    "and then,\n",
    "``` pip install networkx```\n",
    "\n",
    "Let me know if you run into any issues."
   ]
  },
  {
   "cell_type": "markdown",
   "id": "later-seattle",
   "metadata": {},
   "source": [
    "### What is `numpy`?"
   ]
  },
  {
   "cell_type": "code",
   "execution_count": 8,
   "id": "japanese-feeling",
   "metadata": {},
   "outputs": [],
   "source": [
    "import numpy as np"
   ]
  },
  {
   "cell_type": "markdown",
   "id": "charitable-figure",
   "metadata": {},
   "source": [
    "The package `numpy` is short for \"numerical python\". It's a package that contains a lot of helpful tools for doing computational mathematics. We'll just be using _numpy arrays_ which will help us store data about networks. Note that here I gave `numpy` the nickname, `np`. This is a common nickname for the `numpy` package and you'll probably see it online!"
   ]
  },
  {
   "cell_type": "markdown",
   "id": "promising-nowhere",
   "metadata": {},
   "source": [
    "### What is `networkx`?"
   ]
  },
  {
   "cell_type": "code",
   "execution_count": 6,
   "id": "desirable-harvest",
   "metadata": {},
   "outputs": [],
   "source": [
    "import networkx as nx"
   ]
  },
  {
   "cell_type": "markdown",
   "id": "skilled-feature",
   "metadata": {},
   "source": [
    "The `networkx` package has been developed specifically to help visualize and analyze networks. A lot of the metrics of networks that we'll talk about in class are already coded up as functions in this package, so we can use them to understand big networks without doing anything by hand."
   ]
  },
  {
   "cell_type": "markdown",
   "id": "plastic-kelly",
   "metadata": {},
   "source": [
    "### What is `matplotlib`?"
   ]
  },
  {
   "cell_type": "code",
   "execution_count": 7,
   "id": "public-programmer",
   "metadata": {},
   "outputs": [],
   "source": [
    "import matplotlib.pyplot as plt"
   ]
  },
  {
   "cell_type": "markdown",
   "id": "neural-invasion",
   "metadata": {},
   "source": [
    "The package `matplotlib` contains lots of tools for visulizing data in python. The specific part we're loading, `pyplot` will help us plot networks. The nickname `plt` is commonly used for the `pyplot` part of the `matplotlib` package."
   ]
  },
  {
   "cell_type": "markdown",
   "id": "electoral-identification",
   "metadata": {},
   "source": [
    "## That's it! \n",
    "Don't forget to put your name in the block at the beginning, and then finish the rest of the tasks listed in the `Jan10_CL.md` file. "
   ]
  }
 ],
 "metadata": {
  "kernelspec": {
   "display_name": "Python 3 (ipykernel)",
   "language": "python",
   "name": "python3"
  },
  "language_info": {
   "codemirror_mode": {
    "name": "ipython",
    "version": 3
   },
   "file_extension": ".py",
   "mimetype": "text/x-python",
   "name": "python",
   "nbconvert_exporter": "python",
   "pygments_lexer": "ipython3",
   "version": "3.10.9"
  }
 },
 "nbformat": 4,
 "nbformat_minor": 5
}
